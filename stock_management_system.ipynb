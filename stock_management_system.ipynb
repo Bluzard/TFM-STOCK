{
 "cells": [
  {
   "cell_type": "markdown",
   "metadata": {},
   "source": [
    "# Stock Management System - Optimización de Producción\n",
    "\n",
    "Este notebook implementa un sistema para gestionar el inventario y optimizar la producción utilizando programación lineal."
   ]
  },
  {
   "cell_type": "code",
   "execution_count": 5,
   "metadata": {},
   "outputs": [],
   "source": [
    "import numpy as np\n",
    "import pandas as pd\n",
    "from scipy.optimize import linprog\n",
    "from typing import Dict, Any"
   ]
  },
  {
   "cell_type": "code",
   "execution_count": null,
   "id": "b7d8888c",
   "metadata": {},
   "outputs": [],
   "source": [
    "class StockManagementSystem:\n",
    "    def __init__(self, data_path: str):\n",
    "        \"\"\"\n",
    "        Inicializar el sistema de gestión de inventario con los datos de entrada\n",
    "        \"\"\"\n",
    "        try:\n",
    "            # Cargar datos desde el archivo CSV\n",
    "            self.df = pd.read_csv(data_path, sep=';', encoding='latin1', skiprows=3, header=0)\n",
    "            self.df.columns = self.df.iloc[0]  # Primera fila como encabezado\n",
    "            self.df = self.df[1:]  # Eliminar fila usada como encabezado\n",
    "            self.df.columns = self.df.columns.str.strip()  # Limpiar espacios en los nombres\n",
    "            print(\"Datos cargados correctamente. Columnas disponibles:\", self.df.columns)\n",
    "        except Exception as e:\n",
    "            raise Exception(f\"Error al cargar el archivo CSV: {e}\")\n"
   ]
  },
  {
   "cell_type": "code",
   "execution_count": null,
   "id": "e248cf19",
   "metadata": {},
   "outputs": [],
   "source": [
    "def _clean_data(self):\n",
    "    \"\"\"Limpieza y preparación de los datos\"\"\"\n",
    "    try:\n",
    "        # Eliminar filas completamente vacías y resetear índices\n",
    "        self.df = self.df.dropna(how='all').reset_index(drop=True)\n",
    "        self.df = self.df[self.df['COD_ART'] != 'Total general']\n",
    "\n",
    "        # Convertir columnas numéricas relevantes\n",
    "        num_columns = ['Cj/H', 'Disponible', 'Calidad', 'Stock Externo', 'M_Vta -15', 'M_Vta -15 AA']\n",
    "        for col in num_columns:\n",
    "            self.df[col] = self.df[col].replace({',': '.'}, regex=True)\n",
    "            self.df[col] = pd.to_numeric(self.df[col], errors='coerce')\n",
    "\n",
    "        # Manejar valores nulos\n",
    "        self.df['Cj/H'] = self.df['Cj/H'].fillna(1)\n",
    "        self.df['Disponible'] = self.df['Disponible'].fillna(0)\n",
    "        self.df['Calidad'] = self.df['Calidad'].fillna(0)\n",
    "        self.df['Stock Externo'] = self.df['Stock Externo'].fillna(0)\n",
    "        self.df['M_Vta -15'] = self.df['M_Vta -15'].fillna(0)\n",
    "        self.df['M_Vta -15 AA'] = self.df['M_Vta -15 AA'].fillna(1)\n",
    "\n",
    "        # Calcular el stock total\n",
    "        self.df['STOCK_TOTAL'] = (\n",
    "            self.df['Disponible'] +\n",
    "            self.df['Calidad'] +\n",
    "            self.df['Stock Externo']\n",
    "        ).fillna(0)\n",
    "\n",
    "        print(\"Datos después de la limpieza:\")\n",
    "        print(self.df.head())\n",
    "    except Exception as e:\n",
    "        raise Exception(f\"Error al limpiar los datos: {e}\")\n"
   ]
  },
  {
   "cell_type": "code",
   "execution_count": null,
   "id": "61a1bd55",
   "metadata": {},
   "outputs": [],
   "source": [
    "system = StockManagementSystem(\"stock_data.csv\")\n",
    "system._clean_data()\n"
   ]
  },
  {
   "cell_type": "code",
   "execution_count": null,
   "id": "c7ae6bff",
   "metadata": {},
   "outputs": [],
   "source": [
    "def _calculate_demand_estimation(self):\n",
    "    \"\"\"Cálculo de la estimación de demanda\"\"\"\n",
    "    try:\n",
    "        # Demanda media basada en las ventas\n",
    "        self.df['DEMANDA_MEDIA'] = self.df['M_Vta -15'].fillna(0)\n",
    "\n",
    "        # Calcular variación interanual\n",
    "        self.df['VAR_ANUAL'] = abs(1 - (\n",
    "            self.df['M_Vta -15'].fillna(0) /\n",
    "            self.df['M_Vta -15 AA'].fillna(1)\n",
    "        )) * 100\n",
    "\n",
    "        # Ajustar tendencia para variaciones significativas\n",
    "        mask = self.df['VAR_ANUAL'] > 20\n",
    "        self.df.loc[mask, 'DEMANDA_MEDIA'] *= (1 + self.df.loc[mask, 'VAR_ANUAL'] / 100)\n",
    "\n",
    "        print(\"Demanda calculada:\")\n",
    "        print(self.df[['COD_ART', 'DEMANDA_MEDIA', 'VAR_ANUAL']].head())\n",
    "    except Exception as e:\n",
    "        raise Exception(f\"Error al calcular la estimación de demanda: {e}\")\n"
   ]
  },
  {
   "cell_type": "code",
   "execution_count": null,
   "id": "97400f4e",
   "metadata": {},
   "outputs": [],
   "source": [
    "def optimize_production(self, available_hours: float, maintenance_hours: float, pending_orders: Dict[str, float] = None):\n",
    "    try:\n",
    "        # Ajustar horas disponibles\n",
    "        net_hours = available_hours - maintenance_hours\n",
    "        production_rates = self.df['Cj/H'].fillna(1).values\n",
    "        current_stock = self.df['STOCK_TOTAL'].values\n",
    "        demand = self.df['DEMANDA_MEDIA'].values\n",
    "\n",
    "        # Función objetivo\n",
    "        c = -1 * np.maximum(demand - current_stock, 0)\n",
    "\n",
    "        # Restricciones\n",
    "        A_ub = [1 / np.where(production_rates == 0, 1, production_rates)]\n",
    "        b_ub = [net_hours]\n",
    "\n",
    "        min_production = self.MIN_PRODUCTION_HOURS * production_rates\n",
    "        A_ub.extend(-1 * np.eye(len(production_rates)))\n",
    "        b_ub.extend(-1 * min_production)\n",
    "\n",
    "        # Resolver problema de optimización\n",
    "        result = linprog(\n",
    "            c,\n",
    "            A_ub=np.array(A_ub),\n",
    "            b_ub=np.array(b_ub),\n",
    "            bounds=(0, None),\n",
    "            method='highs'\n",
    "        )\n",
    "\n",
    "        # Crear plan de producción\n",
    "        production_plan = self.df.copy()\n",
    "        production_plan['CAJAS_PRODUCIR'] = result.x\n",
    "        production_plan['HORAS_PRODUCCION'] = np.divide(\n",
    "            result.x, \n",
    "            production_plan['Cj/H'].fillna(1),\n",
    "            out=np.zeros_like(result.x),\n",
    "            where=production_plan['Cj/H'].fillna(1) > 0\n",
    "        )\n",
    "\n",
    "        print(\"Plan de producción generado:\")\n",
    "        print(production_plan[['COD_ART', 'CAJAS_PRODUCIR', 'HORAS_PRODUCCION']].head())\n",
    "        return production_plan\n",
    "    except Exception as e:\n",
    "        raise Exception(f\"Error al optimizar la producción: {e}\")\n"
   ]
  },
  {
   "cell_type": "code",
   "execution_count": null,
   "id": "af76489c",
   "metadata": {},
   "outputs": [],
   "source": [
    "production_plan = system.optimize_production(100, 5)\n"
   ]
  },
  {
   "cell_type": "code",
   "execution_count": null,
   "id": "a66848f5",
   "metadata": {},
   "outputs": [],
   "source": [
    "def display_summary_table(self, production_plan: pd.DataFrame):\n",
    "    try:\n",
    "        summary_table = production_plan[['COD_ART', 'NOM_ART', 'CAJAS_PRODUCIR', 'HORAS_PRODUCCION', 'STOCK_TOTAL']].head(10)\n",
    "        print(\"\\nResumen del plan de producción:\\n\")\n",
    "        print(summary_table)\n",
    "    except Exception as e:\n",
    "        raise Exception(f\"Error al mostrar la tabla resumen: {e}\")\n"
   ]
  },
  {
   "cell_type": "code",
   "execution_count": null,
   "id": "3f710159",
   "metadata": {},
   "outputs": [],
   "source": [
    "system.display_summary_table(production_plan)\n"
   ]
  }
 ],
 "metadata": {
  "kernelspec": {
   "display_name": "Python 3",
   "language": "python",
   "name": "python3"
  },
  "language_info": {
   "codemirror_mode": {
    "name": "ipython",
    "version": 3
   },
   "file_extension": ".py",
   "mimetype": "text/x-python",
   "name": "python",
   "nbconvert_exporter": "python",
   "pygments_lexer": "ipython3",
   "version": "3.12.6"
  }
 },
 "nbformat": 4,
 "nbformat_minor": 5
}
